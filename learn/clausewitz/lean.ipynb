{
 "cells": [
  {
   "cell_type": "markdown",
   "metadata": {},
   "source": [
    "in the converter of the parser_web function, in the app module\n",
    "\n",
    "```python\n",
    "from tokenize import tokenize\n",
    "def jsonify(f):\n",
    "    return parse(tokenize(prepare(f.readline)))\n",
    "```\n",
    "\n",
    "Therefore, the steps are:\n",
    "\n",
    "1. readfile\n",
    "2. prepare line\n",
    "3. tokenize line\n",
    "4. parse line"
   ]
  }
 ],
 "metadata": {
  "language_info": {
   "name": "python"
  }
 },
 "nbformat": 4,
 "nbformat_minor": 2
}
